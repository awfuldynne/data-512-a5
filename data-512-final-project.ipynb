{
 "cells": [
  {
   "cell_type": "markdown",
   "metadata": {},
   "source": [
    "## data-512-a5 - Final Project\n",
    "\n",
    "Sean Miller - <millsea0@u.washington.edu>"
   ]
  },
  {
   "cell_type": "markdown",
   "metadata": {},
   "source": [
    "### Introduction\n",
    "\n",
    "The purpose of this analysis is to understand how information technology (IT) workers feel about mental health issues. \"Although research has gone far to understand the impact of the disease, it has only recently begun to explain stigma in mental illness. Much work yet needs to be done to fully understand the breadth and scope of prejudice against people with mental illness.\" [[1]](#References) Two surveys conducted by [Open Sourcing Mental Illness Ltd](https://osmihelp.org/research/) (OSMI) collected information around the perceived stigma of mental health issues as well as to \"...examine the frequency of mental health disorders among tech workers.\"[[2]](#References). OSMI has conducted these surveys in 2014 and 2016 to identify areas where they can raise awareness around mental health in the tech community.\n",
    "\n",
    "I will be comparing potential differences in the surveys between the two years it was run as well as analyzing if views on mental health have changed between the two years.\n",
    "\n",
    "I am a data scientist who has been working in a variety of roles in the tech industry since 2010. Having been impacted by mental health issues myself, I believe that promoting open discussion reduces the stigma both those with and without mental illnesses hold. This analysis seeks to engage in and start such discussions."
   ]
  },
  {
   "cell_type": "markdown",
   "metadata": {},
   "source": [
    "### Data Sets\n",
    "\n",
    "The data sets that I'll be using for this analysis are survey results collected by [OSMI](https://osmihelp.org/research/) and are made available by the [CC-BY-SA 4.0](https://creativecommons.org/licenses/by-sa/4.0/) license. One survey was performed in 2014 and the other in 2016. Both of the surveys seek to understand how people that work in technology view mental health issues and to understand what support they receive from their employer.\n",
    "\n",
    "OSMI has made the data sets for both the [2014 survey](https://www.kaggle.com/osmi/mental-health-in-tech-survey/data) and the [2016 survey](https://www.kaggle.com/osmi/mental-health-in-tech-2016) available on Kaggle.\n",
    "\n",
    "To ensure open access to the data, I have uploaded the data in CSV format to [figshare](https://doi.org/10.6084/m9.figshare.5579458.v1) with a description of each column/question. In 2014 the columns were labeled by a keyword to indicate the question asked, I have provided this mapping in the [appendix](#additional-images) of this document."
   ]
  },
  {
   "cell_type": "markdown",
   "metadata": {},
   "source": [
    "### Background and Research Questions\n",
    "\n",
    "Providing a better understanding of technology workers' views on mental health issues is inherently a human-centered project. The National Alliance on Mental Illness (NAMI) defines stigma as one person viewing another in a negative way due to a mental illness.[[3]](#References) Understanding how tech workers view this stigma and assessing the basics of services the company they work for provides allows us to start the discussion around how to reduce the stigma around the perception of mental health issues.\n",
    "\n",
    "Within this analysis we will be exploring sentiment from IT workers about mental health and if employer provided mental health benefits have improved between the two surveys.\n",
    "\n",
    "This brings us to our two research questions. For both, we will be using a two-sample proportion z-test to evaluate if there has been a change between the two surveys for the hypothesis we're testing.\n",
    "\n",
    "##### RQ1: Sentiment Over Time\n",
    "\n",
    "In this research question I want to explore if the overall sentiment of tech workers on mental health has improved from the 2014 survey to the 2016 survey. Singletary et al. determined that 13-year old children tended to perceive being healthy as meaning physical well-being as opposed to mental well-being [[6]](#References). I believe that technology workers will share this same perception.\n",
    "\n",
    "**H1a:** More negative perception of discussing mental health.\n",
    "\n",
    "Given the findings of Singletary et al., I also hypothesize that how people perceive the consequences of discussing mental illness with their employer has not changed between the two surveys.\n",
    "\n",
    "**H1b:** Perception of discussing mental health between surveys hasn't changed.\n",
    "\n",
    "To validate these hypotheses, we will be comparing the proportions of participants answers to \"Do you think that discussing a mental health issue with your employer would have negative consequences?\" and \"Do you think that discussing a physical health issue with your employer would have negative consequences?\" between surveys. Participants will be classified based on if their perception of the consequences of discussing mental health issues is greater than, less than or equal to their perception of the consequences for discussing a physical ailment.\n",
    "\n",
    "##### RQ2: Benefit Coverage Increase\n",
    "\n",
    "For our second research question, we want to examine if there has been an increase in coverage of mental health benefits among tech workers. As this study is primarily made up of individuals in the United States, my belief is that coverage will have increased due to benefits from The Affordable Care Act as many millions of people have gained healthcare from this bill. [[7]](#References)\n",
    "\n",
    "**H2a:** Increase in percent of tech workers with mental health benefits.\n",
    "\n",
    "To prove this hypothesis, we will be comparing the proportion of survey participants who answered yes to \"Does your employer provide mental health benefits?\" between the two surveys. We will also explore if country is a confounding variable."
   ]
  },
  {
   "cell_type": "markdown",
   "metadata": {},
   "source": [
    "### Analysis/Findings"
   ]
  },
  {
   "cell_type": "markdown",
   "metadata": {},
   "source": [
    "#### Software\n",
    "\n",
    "This analysis is conducted in [Python 3.6.0](https://www.python.org/), uses [Pandas dataframes](https://pandas.pydata.org/pandas-docs/stable/generated/pandas.DataFrame.html) to manipulate and transform data, and uses [Matplotlib](https://matplotlib.org/) for visualizations.\n",
    "\n",
    "The analysis will be published in a [Jupyter Notebook](http://jupyter.org/) and all code used will be made available on my [GitHub](https://github.com/awfuldynne/).\n",
    "\n",
    "All of the code will be written and tested against the default packages present in **Anaconda3 v4.4.0**. You can find a download for Anaconda and its latest versions at <https://repo.continuum.io/archive/>."
   ]
  },
  {
   "cell_type": "markdown",
   "metadata": {},
   "source": [
    "##### Data Preparation\n",
    "\n",
    "Our first step is to import the necessary packages we'll need to perform our analysis."
   ]
  },
  {
   "cell_type": "code",
   "execution_count": 1,
   "metadata": {
    "collapsed": true
   },
   "outputs": [],
   "source": [
    "import matplotlib.pyplot as plt\n",
    "import numpy as np\n",
    "import os\n",
    "import pandas as pd\n",
    "from statsmodels.stats.proportion import proportions_ztest\n",
    "%matplotlib inline"
   ]
  },
  {
   "cell_type": "markdown",
   "metadata": {},
   "source": [
    "We then suppress chained assignment warnings in Pandas and setup our folder structure. This analysis assumes that you have downloaded the data from the provided [figshare](https://doi.org/10.6084/m9.figshare.5579458.v1) link and use the same file names."
   ]
  },
  {
   "cell_type": "code",
   "execution_count": 2,
   "metadata": {
    "collapsed": true
   },
   "outputs": [],
   "source": [
    "# SO Post: https://stackoverflow.com/questions/20625582/how-to-deal-with-settingwithcopywarning-in-pandas\n",
    "# We disable the chained assignment warning in Pandas as how we use DataFrames isn't impacted by this.\n",
    "pd.options.mode.chained_assignment = None  # default='warn'\n",
    "\n",
    "# If the folder raw_data doesn't already exist, create it\n",
    "# raw_data is where any initial data sets are stored\n",
    "if not os.path.exists(\"raw_data\"):\n",
    "    os.makedirs(\"./raw_data\")\n",
    "    \n",
    "# If the folder clean_data doesn't already exist, create it\n",
    "# clean_data is where any processed data sets are stored\n",
    "if not os.path.exists(\"clean_data\"):\n",
    "    os.makedirs(\"./clean_data\")\n",
    "\n",
    "# If the folder outputs doesn't already exist, create it\n",
    "# The outputs folder is where visualizations for our analysis will be stored\n",
    "if not os.path.exists(\"outputs\"):\n",
    "    os.makedirs(\"./outputs\")"
   ]
  },
  {
   "cell_type": "code",
   "execution_count": 3,
   "metadata": {
    "collapsed": true
   },
   "outputs": [],
   "source": [
    "# File names\n",
    "twenty_fourteen_file = \"./raw_data/mental-heath-in-tech-2014.csv\"\n",
    "twenty_sixteen_file = \"./raw_data/mental-heath-in-tech-2016_20161114.csv\"\n",
    "\n",
    "# Read in data\n",
    "twenty_fourteen_data = pd.read_csv(twenty_fourteen_file)\n",
    "twenty_sixteen_data = pd.read_csv(twenty_sixteen_file)"
   ]
  },
  {
   "cell_type": "markdown",
   "metadata": {},
   "source": [
    "We then reduce the DataFrames down to only the columns we require for the analyses we'll be performing and clean up the data a bit. In the 2016 data set, if a user was self-employed is encoded as a binary variable. We convert that back to a string so the data has the same expected values as the 2014 data set.\n",
    "\n",
    "After cleaning the data, we write these files out to the *clean_data* folder."
   ]
  },
  {
   "cell_type": "code",
   "execution_count": 4,
   "metadata": {
    "collapsed": true
   },
   "outputs": [],
   "source": [
    "# Reduce DataFrames down to only the columns we'll need. The order the columns are selected is important as it is needed\n",
    "# to map properly in the clean_data_set() function\n",
    "twenty_fourteen_data \\\n",
    "    = twenty_fourteen_data[[\"Age\", \"Country\", \"self_employed\", \"benefits\", \"mental_health_consequence\",\n",
    "                            \"phys_health_consequence\"]]\n",
    "twenty_sixteen_data \\\n",
    "    = twenty_sixteen_data[[\"What is your age?\", \n",
    "                           \"What country do you live in?\", \n",
    "                           \"Are you self-employed?\",\n",
    "                           \"Does your employer provide mental health benefits as part of healthcare coverage?\",\n",
    "                           \"Do you think that discussing a mental health disorder with your employer would have negative consequences?\",\n",
    "                           \"Do you think that discussing a physical health issue with your employer would have negative consequences?\"]]"
   ]
  },
  {
   "cell_type": "code",
   "execution_count": 5,
   "metadata": {
    "collapsed": true
   },
   "outputs": [],
   "source": [
    "def clean_data_set(df):\n",
    "    \"\"\" Method used to clean OSMI mental health data sets\n",
    "        This function expects the columns to be in the same order as specified by the column headers:\n",
    "        [\"age\", \"country\", \"self_employed\", \"benefits\", \"mental_health_consequence\", \"phys_health_consequence\"]\n",
    "\n",
    "    :param df: DataFrame to process\n",
    "    :type df: Pandas DataFrame\n",
    "    :return: Pandas DataFrame\n",
    "    \"\"\"\n",
    "    # column header mapping\n",
    "    columns = [\"age\", \"country\", \"self_employed\", \"benefits\", \"mental_health_consequence\", \"phys_health_consequence\"]\n",
    "\n",
    "    # Rename columns\n",
    "    df.columns = columns\n",
    "\n",
    "    # Clean country names\n",
    "    df = df.replace(\"United States of America\", \"United States\")\n",
    "\n",
    "    # Map self_employed to Yes/No\n",
    "    df = df.replace({\"self_employed\": {0: \"No\", 1: \"Yes\"}})\n",
    "    return df"
   ]
  },
  {
   "cell_type": "code",
   "execution_count": 6,
   "metadata": {
    "collapsed": true
   },
   "outputs": [],
   "source": [
    "# Clean our data sets\n",
    "twenty_fourteen_data = clean_data_set(twenty_fourteen_data)\n",
    "twenty_sixteen_data = clean_data_set(twenty_sixteen_data)"
   ]
  },
  {
   "cell_type": "code",
   "execution_count": 7,
   "metadata": {
    "collapsed": true
   },
   "outputs": [],
   "source": [
    "# Write the cleaned data sets out to disk\n",
    "twenty_fourteen_data.to_csv(\"./clean_data/mental-heath-in-tech-2014_clean.csv\", index=False)\n",
    "twenty_sixteen_data.to_csv(\"./clean_data/mental-heath-in-tech-2016_clean.csv\", index=False)"
   ]
  },
  {
   "cell_type": "markdown",
   "metadata": {},
   "source": [
    "Here is an example of the 2016 data set after we have cleaned it."
   ]
  },
  {
   "cell_type": "code",
   "execution_count": 8,
   "metadata": {},
   "outputs": [
    {
     "data": {
      "text/html": [
       "<div>\n",
       "<style>\n",
       "    .dataframe thead tr:only-child th {\n",
       "        text-align: right;\n",
       "    }\n",
       "\n",
       "    .dataframe thead th {\n",
       "        text-align: left;\n",
       "    }\n",
       "\n",
       "    .dataframe tbody tr th {\n",
       "        vertical-align: top;\n",
       "    }\n",
       "</style>\n",
       "<table border=\"1\" class=\"dataframe\">\n",
       "  <thead>\n",
       "    <tr style=\"text-align: right;\">\n",
       "      <th></th>\n",
       "      <th>age</th>\n",
       "      <th>country</th>\n",
       "      <th>self_employed</th>\n",
       "      <th>benefits</th>\n",
       "      <th>mental_health_consequence</th>\n",
       "      <th>phys_health_consequence</th>\n",
       "    </tr>\n",
       "  </thead>\n",
       "  <tbody>\n",
       "    <tr>\n",
       "      <th>0</th>\n",
       "      <td>39</td>\n",
       "      <td>United Kingdom</td>\n",
       "      <td>No</td>\n",
       "      <td>Not eligible for coverage / N/A</td>\n",
       "      <td>No</td>\n",
       "      <td>No</td>\n",
       "    </tr>\n",
       "    <tr>\n",
       "      <th>1</th>\n",
       "      <td>29</td>\n",
       "      <td>United States</td>\n",
       "      <td>No</td>\n",
       "      <td>No</td>\n",
       "      <td>No</td>\n",
       "      <td>No</td>\n",
       "    </tr>\n",
       "    <tr>\n",
       "      <th>2</th>\n",
       "      <td>38</td>\n",
       "      <td>United Kingdom</td>\n",
       "      <td>No</td>\n",
       "      <td>No</td>\n",
       "      <td>Maybe</td>\n",
       "      <td>No</td>\n",
       "    </tr>\n",
       "    <tr>\n",
       "      <th>3</th>\n",
       "      <td>43</td>\n",
       "      <td>United Kingdom</td>\n",
       "      <td>Yes</td>\n",
       "      <td>NaN</td>\n",
       "      <td>NaN</td>\n",
       "      <td>NaN</td>\n",
       "    </tr>\n",
       "    <tr>\n",
       "      <th>4</th>\n",
       "      <td>43</td>\n",
       "      <td>United States</td>\n",
       "      <td>No</td>\n",
       "      <td>Yes</td>\n",
       "      <td>Yes</td>\n",
       "      <td>Maybe</td>\n",
       "    </tr>\n",
       "  </tbody>\n",
       "</table>\n",
       "</div>"
      ],
      "text/plain": [
       "   age         country self_employed                         benefits  \\\n",
       "0   39  United Kingdom            No  Not eligible for coverage / N/A   \n",
       "1   29   United States            No                               No   \n",
       "2   38  United Kingdom            No                               No   \n",
       "3   43  United Kingdom           Yes                              NaN   \n",
       "4   43   United States            No                              Yes   \n",
       "\n",
       "  mental_health_consequence phys_health_consequence  \n",
       "0                        No                      No  \n",
       "1                        No                      No  \n",
       "2                     Maybe                      No  \n",
       "3                       NaN                     NaN  \n",
       "4                       Yes                   Maybe  "
      ]
     },
     "execution_count": 8,
     "metadata": {},
     "output_type": "execute_result"
    }
   ],
   "source": [
    "twenty_sixteen_data.head()"
   ]
  },
  {
   "cell_type": "markdown",
   "metadata": {},
   "source": [
    "#### Data Examination\n",
    "\n",
    "Now that we've cleaned our data sets, let's look at the distribution of countries of survey participants between the two years as well as the distribution of ages of the survey participants to understand what differences exist between the data sets prior to answering our research questions.\n",
    "\n",
    "##### Age of Participants\n",
    "\n",
    "For each data set, we'll plot a histogram of the distribution of ages binning by 5-year increments. For these distributions we exclude any ages below 16 years old and any age about 99 years old to remove inaccurate responses."
   ]
  },
  {
   "cell_type": "code",
   "execution_count": 9,
   "metadata": {
    "collapsed": true
   },
   "outputs": [],
   "source": [
    "def plot_age_histogram(ages, year, output_file=None):\n",
    "    \"\"\" Method used to plot a histogram of an age series\n",
    "\n",
    "    :param ages: Series of ages to plot\n",
    "    :type ages: Pandas Series\n",
    "    :param year: Year of survey\n",
    "    :type year: int\n",
    "    :param output_file: File to output plot to\n",
    "    :type output_file: string\n",
    "    :return: Pandas DataFrame\n",
    "    \"\"\"\n",
    "    # Create bins for age distribution\n",
    "    age_bins = list(range(0, 101, 5))\n",
    "    print(\"Creating histogram for year {0} with age bins of:\".format(year))\n",
    "    print(age_bins)\n",
    "    print()\n",
    "\n",
    "    # Create title for histogram\n",
    "    title = \"{0} - Age Distribution\".format(year)\n",
    "\n",
    "    # Plot histogram\n",
    "    plt.figure(figsize=(12, 6))\n",
    "    ax = ages.plot(kind=\"hist\", bins=age_bins, rwidth=0.8)\n",
    "    ax.set_title(title)\n",
    "    ax.set_xlabel(\"Age (Years)\")\n",
    "    ax.set_ylabel(\"Count\")\n",
    "    \n",
    "    if output_file:\n",
    "        plt.savefig(output_file)\n",
    "    plt.show()"
   ]
  },
  {
   "cell_type": "code",
   "execution_count": 10,
   "metadata": {},
   "outputs": [
    {
     "name": "stdout",
     "output_type": "stream",
     "text": [
      "Creating histogram for year 2014 with age bins of:\n",
      "[0, 5, 10, 15, 20, 25, 30, 35, 40, 45, 50, 55, 60, 65, 70, 75, 80, 85, 90, 95, 100]\n",
      "\n"
     ]
    },
    {
     "data": {
      "image/png": "[encoded data removed]",
      "text/plain": [
       "<matplotlib.figure.Figure at 0x2cdd14adb70>"
      ]
     },
     "metadata": {},
     "output_type": "display_data"
    },
    {
     "name": "stdout",
     "output_type": "stream",
     "text": [
      "Creating histogram for year 2016 with age bins of:\n",
      "[0, 5, 10, 15, 20, 25, 30, 35, 40, 45, 50, 55, 60, 65, 70, 75, 80, 85, 90, 95, 100]\n",
      "\n"
     ]
    },
    {
     "data": {
      "image/png": "[encoded data removed]",
      "text/plain": [
       "<matplotlib.figure.Figure at 0x2cdd14494a8>"
      ]
     },
     "metadata": {},
     "output_type": "display_data"
    }
   ],
   "source": [
    "# Plot age distribution of each survey filtering out participants who filled in an invalind age.\n",
    "plot_age_histogram(twenty_fourteen_data[(twenty_fourteen_data[\"age\"] >= 16) & (twenty_fourteen_data[\"age\"] < 99)].age, 2014, \"./outputs/2014_age_distribution.png\")\n",
    "plot_age_histogram(twenty_sixteen_data[(twenty_sixteen_data[\"age\"] >= 16) & (twenty_sixteen_data[\"age\"] < 99)].age, 2016, \"./outputs/2016_age_distribution.png\")"
   ]
  },
  {
   "cell_type": "markdown",
   "metadata": {},
   "source": [
    "Both data sets appear to have roughly equivalent distributions of survey participant age. The majority of participants in each survey are between the ages of 20 and 40 years old. It appears that in the 2016 survey, there were more participants in the over 40 year old range. Let's take a closer look at what these percentages actually are.\n",
    "\n",
    "For each data set, we'll get the count of all participants, the count of participants between 20 and 40, and the count of participants over 40."
   ]
  },
  {
   "cell_type": "code",
   "execution_count": 11,
   "metadata": {},
   "outputs": [
    {
     "name": "stdout",
     "output_type": "stream",
     "text": [
      "The 2014 survey had 1259 participants. 83.72% were between 20 and 40. 14.54% were over 40\n",
      "The 2016 survey had 1433 participants. 78.23% were between 20 and 40. 21.28% were over 40\n"
     ]
    }
   ],
   "source": [
    "# Get count of participants in each data set\n",
    "total_participants_twenty_fourteen = twenty_fourteen_data.shape[0]\n",
    "total_participants_twenty_sixteen = twenty_sixteen_data.shape[0]\n",
    "\n",
    "# Get count of participants between 20 and 40\n",
    "twenty_to_forty_twenty_fourteen = twenty_fourteen_data[(twenty_fourteen_data[\"age\"] < 40) \n",
    "                                                       & (twenty_fourteen_data[\"age\"] >= 20)].shape[0]\n",
    "twenty_to_forty_twenty_sixteen = twenty_sixteen_data[(twenty_sixteen_data[\"age\"] < 40) \n",
    "                                                     & (twenty_sixteen_data[\"age\"] >= 20)].shape[0]\n",
    "\n",
    "# Get count of participants older than 40\n",
    "over_forty_twenty_fourteen = twenty_fourteen_data[(twenty_fourteen_data[\"age\"] >= 40)].shape[0]\n",
    "over_forty_twenty_sixteen = twenty_sixteen_data[(twenty_sixteen_data[\"age\"] >= 40)].shape[0]\n",
    "\n",
    "# Print our results\n",
    "print(\"The 2014 survey had {0} participants. {1}% were between 20 and 40. {2}% were over 40\".format(\n",
    "int(total_participants_twenty_fourteen),\n",
    "np.round(twenty_to_forty_twenty_fourteen * 100 / float(total_participants_twenty_fourteen), 2),\n",
    "np.round(over_forty_twenty_fourteen * 100 / float(total_participants_twenty_fourteen), 2)\n",
    "))\n",
    "\n",
    "print(\"The 2016 survey had {0} participants. {1}% were between 20 and 40. {2}% were over 40\".format(\n",
    "int(total_participants_twenty_sixteen),\n",
    "np.round(twenty_to_forty_twenty_sixteen * 100 / float(total_participants_twenty_sixteen), 2),\n",
    "np.round(over_forty_twenty_sixteen * 100 / float(total_participants_twenty_sixteen), 2)\n",
    "))"
   ]
  },
  {
   "cell_type": "markdown",
   "metadata": {},
   "source": [
    "##### Countries of Participants\n",
    "\n",
    "Next, we'll look at the top ten countries with the most participants in each survey and see if there are any major differences. We'll provide a plot for each data set and then note any major differences."
   ]
  },
  {
   "cell_type": "code",
   "execution_count": 12,
   "metadata": {
    "collapsed": true
   },
   "outputs": [],
   "source": [
    "# Group each data set by country\n",
    "twenty_fourteen_country_group = twenty_fourteen_data.groupby(\"country\")\n",
    "twenty_sixteen_country_group = twenty_sixteen_data.groupby(\"country\")"
   ]
  },
  {
   "cell_type": "code",
   "execution_count": 13,
   "metadata": {
    "collapsed": true
   },
   "outputs": [],
   "source": [
    "# Define methods to generate aggregate statistics\n",
    "def number_of_participants(group):\n",
    "    return group.shape[0]\n",
    "\n",
    "# We add a constant column for percent_of_participants as .apply() then returns a DataFrame and not a Series\n",
    "def get_aggregate_stats(group):\n",
    "    return pd.Series({\"number_of_participants\": number_of_participants(group),\n",
    "                      \"percent_of_participants\": 0})"
   ]
  },
  {
   "cell_type": "code",
   "execution_count": 14,
   "metadata": {
    "collapsed": true
   },
   "outputs": [],
   "source": [
    "# Apply aggregation to 2014 data set and fill in percent_of_participants column\n",
    "twenty_fourteen_agg_df = twenty_fourteen_country_group.apply(get_aggregate_stats)\n",
    "twenty_fourteen_agg_df[\"percent_of_participants\"] = \\\n",
    "    twenty_fourteen_agg_df[\"number_of_participants\"] * 100 / float(twenty_fourteen_data.shape[0])\n",
    "\n",
    "# Apply aggregation to 2016 data set and fill in percent_of_participants column\n",
    "twenty_sixteen_agg_df = twenty_sixteen_country_group.apply(get_aggregate_stats)\n",
    "twenty_sixteen_agg_df[\"percent_of_participants\"] = \\\n",
    "    twenty_sixteen_agg_df[\"number_of_participants\"] * 100 / float(twenty_sixteen_data.shape[0])"
   ]
  },
  {
   "cell_type": "markdown",
   "metadata": {
    "collapsed": true
   },
   "source": [
    "Here is an example of the aggregate 2016 data set."
   ]
  },
  {
   "cell_type": "code",
   "execution_count": 15,
   "metadata": {},
   "outputs": [
    {
     "data": {
      "text/html": [
       "<div>\n",
       "<style>\n",
       "    .dataframe thead tr:only-child th {\n",
       "        text-align: right;\n",
       "    }\n",
       "\n",
       "    .dataframe thead th {\n",
       "        text-align: left;\n",
       "    }\n",
       "\n",
       "    .dataframe tbody tr th {\n",
       "        vertical-align: top;\n",
       "    }\n",
       "</style>\n",
       "<table border=\"1\" class=\"dataframe\">\n",
       "  <thead>\n",
       "    <tr style=\"text-align: right;\">\n",
       "      <th></th>\n",
       "      <th>number_of_participants</th>\n",
       "      <th>percent_of_participants</th>\n",
       "    </tr>\n",
       "    <tr>\n",
       "      <th>country</th>\n",
       "      <th></th>\n",
       "      <th></th>\n",
       "    </tr>\n",
       "  </thead>\n",
       "  <tbody>\n",
       "    <tr>\n",
       "      <th>Afghanistan</th>\n",
       "      <td>2</td>\n",
       "      <td>0.139567</td>\n",
       "    </tr>\n",
       "    <tr>\n",
       "      <th>Algeria</th>\n",
       "      <td>1</td>\n",
       "      <td>0.069784</td>\n",
       "    </tr>\n",
       "    <tr>\n",
       "      <th>Argentina</th>\n",
       "      <td>1</td>\n",
       "      <td>0.069784</td>\n",
       "    </tr>\n",
       "    <tr>\n",
       "      <th>Australia</th>\n",
       "      <td>35</td>\n",
       "      <td>2.442428</td>\n",
       "    </tr>\n",
       "    <tr>\n",
       "      <th>Austria</th>\n",
       "      <td>4</td>\n",
       "      <td>0.279135</td>\n",
       "    </tr>\n",
       "  </tbody>\n",
       "</table>\n",
       "</div>"
      ],
      "text/plain": [
       "             number_of_participants  percent_of_participants\n",
       "country                                                     \n",
       "Afghanistan                       2                 0.139567\n",
       "Algeria                           1                 0.069784\n",
       "Argentina                         1                 0.069784\n",
       "Australia                        35                 2.442428\n",
       "Austria                           4                 0.279135"
      ]
     },
     "execution_count": 15,
     "metadata": {},
     "output_type": "execute_result"
    }
   ],
   "source": [
    "twenty_sixteen_agg_df.head()"
   ]
  },
  {
   "cell_type": "code",
   "execution_count": 21,
   "metadata": {
    "collapsed": true
   },
   "outputs": [],
   "source": [
    "def plot_top_ten_countries(agg_df, year, output_file=None):\n",
    "    \"\"\" Method used to plot the top 10 countries\n",
    "\n",
    "    :param agg_df: DataFrame aggregated by country\n",
    "    :type agg_df: Pandas DataFrame\n",
    "    :param year: Year of survey\n",
    "    :type year: int\n",
    "    :param output_file: File to output plot to\n",
    "    :type output_file: string\n",
    "    :return: None\n",
    "    \"\"\"\n",
    "    # SO Post: https://stackoverflow.com/questions/28931224/adding-value-labels-on-a-matplotlib-bar-chart\n",
    "    fig = plt.figure(figsize=(8, 6))\n",
    "    ax = agg_df[\"number_of_participants\"].plot(kind=\"bar\")\n",
    "    ax.set_title(\"Participants - Top 10 Countries - {}\".format(year))\n",
    "    ax.set_xlabel(\"Country\")\n",
    "    ax.set_ylabel(\"Count\")\n",
    "    ax.set_xticklabels(agg_df.index)\n",
    "\n",
    "    fig.tight_layout()\n",
    "\n",
    "    # Add labels to chart\n",
    "    rects = ax.patches\n",
    "    labels = np.round(agg_df[\"percent_of_participants\"], 2)\n",
    "\n",
    "    for rect, label in zip(rects, labels):\n",
    "        height = rect.get_height()\n",
    "        ax.text(rect.get_x() + rect.get_width() / 2, height + .3, \"{}%\".format(label), ha='center', va='bottom')\n",
    "    \n",
    "    if output_file:\n",
    "        plt.savefig(output_file)\n",
    "    plt.show()"
   ]
  },
  {
   "cell_type": "code",
   "execution_count": 22,
   "metadata": {},
   "outputs": [
    {
     "data": {
      "image/png": "[encoded data removed]",
      "text/plain": [
       "<matplotlib.figure.Figure at 0x2cdd1498c88>"
      ]
     },
     "metadata": {},
     "output_type": "display_data"
    },
    {
     "data": {
      "image/png": "[encoded data removed]",
      "text/plain": [
       "<matplotlib.figure.Figure at 0x2cdd2f3ccf8>"
      ]
     },
     "metadata": {},
     "output_type": "display_data"
    }
   ],
   "source": [
    "# Plot top 10 countries % of survey population\n",
    "plot_top_ten_countries(twenty_fourteen_agg_df.sort_values(\"percent_of_participants\", ascending=False).head(10), 2014, \"./outputs/2014_top_10_countries.png\")\n",
    "plot_top_ten_countries(twenty_sixteen_agg_df.sort_values(\"percent_of_participants\", ascending=False).head(10), 2016, \"./outputs/2016_top_10_countries.png\")"
   ]
  },
  {
   "cell_type": "markdown",
   "metadata": {},
   "source": [
    "In both 2014 and 2016, the United States makes up the majority of the surveys' participants at 59.65% and 58.62% respectively. Also in both surveys, the top five countries in order are United States, United Kingdom, Canada, Germany and the Netherlands.\n",
    "\n",
    "Next, we'll look at the percent of the population that the top ten countries make up. For both 2014 and 2016 the top ten countries make up just over 90% of the population."
   ]
  },
  {
   "cell_type": "code",
   "execution_count": 18,
   "metadata": {},
   "outputs": [
    {
     "name": "stdout",
     "output_type": "stream",
     "text": [
      "2014 - Percent of Population of Top 10 Countries: 92.06%\n",
      "2016 - Percent of Population of Top 10 Countries: 90.65%\n"
     ]
    }
   ],
   "source": [
    "# Percent of population made up by the top 10 countries\n",
    "tf_pct = twenty_fourteen_agg_df.sort_values(\"percent_of_participants\", ascending=False).head(10)[\"percent_of_participants\"].sum()\n",
    "ts_pct = twenty_sixteen_agg_df.sort_values(\"percent_of_participants\", ascending=False).head(10)[\"percent_of_participants\"].sum()\n",
    "\n",
    "print(\"2014 - Percent of Population of Top 10 Countries: {}%\".format(np.round(tf_pct, 2)))\n",
    "print(\"2016 - Percent of Population of Top 10 Countries: {}%\".format(np.round(ts_pct, 2)))"
   ]
  },
  {
   "cell_type": "markdown",
   "metadata": {},
   "source": [
    "##### Research Question 1 (RQ1)\n",
    "\n",
    "For the first research question, we have two hypotheses:\n",
    "\n",
    "**H1a:** More negative perception of discussing mental health.\n",
    "\n",
    "**H1b:** Perception of discussing mental health between surveys hasn't changed.\n",
    "\n",
    "The metric we'll be using to establish a survey participant's view on mental health will use the answers to \"Do you think that discussing a mental health issue with your employer would have negative consequences?\" and \"Do you think that discussing a physical health issue with your employer would have negative consequences?\" For each question a user can answer \"Yes\", \"No\", \"Maybe\" or in the 2016 survey, they could opt to leave the questions blank. If they opted out of either question, we will filter that out for our analysis.\n",
    "\n",
    "The way the metric is established is by comparing the participant's answers. For example, if a user answered \"Yes\" to the question about discussing mental health and \"No\" to the question about discussing physical health, the user would be categorized as perceiving mental health more negatively. If the inverse was true, then the user would be categorized as perceiving mental health less negatively.\n",
    "\n",
    "We'll first look at the distributions for each survey to answer **H1a**. We use the function *get_perception_of_mental_health_score* to create our aggregated DataFrame. We then plot the results."
   ]
  },
  {
   "cell_type": "code",
   "execution_count": 24,
   "metadata": {
    "collapsed": true
   },
   "outputs": [],
   "source": [
    "def get_perception_of_mental_health_score(df):\n",
    "    \"\"\" Method used to create DataFrame of perceived mental health views\n",
    "\n",
    "    :param df: Cleaned mental health survey DataFrame\n",
    "    :type df: Pandas DataFrame\n",
    "    :return: Aggregated Pandas DataFrame of mental health perception buckets and statistics\n",
    "    \"\"\"\n",
    "    # For 2014, we expect the values of Yes/No/Maybe\n",
    "    # For 2016, we expect the values of Yes/No/Maybe/nan\n",
    "    # Initialize dictionary of counts. A perception of mental health can either be more negative, less negative or\n",
    "    # equivalent. Equivalent values are broken out by the three answers\n",
    "    mental_health_perception_counts = {\"more_neg\": 0, \"equal_yes\": 0, \"equal_maybe\": 0, \"equal_no\": 0, \"less_neg\": 0}\n",
    "\n",
    "    # Filter out any nan values\n",
    "    df = df[~((pd.isnull(df[\"mental_health_consequence\"])) | (pd.isnull(df[\"phys_health_consequence\"])))]\n",
    "\n",
    "    # Go over each row in the data set and increment the count in the dict\n",
    "    for index, row in df.iterrows():\n",
    "        # If the user perceives discussing mental health issues at work to definitely have consequences\n",
    "        if row[\"mental_health_consequence\"] == \"Yes\":\n",
    "            # And perceives discussing physical health issues to have the same consequences\n",
    "            if row[\"phys_health_consequence\"] == \"Yes\":\n",
    "                mental_health_perception_counts[\"equal_yes\"] += 1\n",
    "            # Or possible consequences\n",
    "            elif row[\"phys_health_consequence\"] == \"Maybe\":\n",
    "                mental_health_perception_counts[\"more_neg\"] += 1\n",
    "            # Or no consequences\n",
    "            else:\n",
    "                mental_health_perception_counts[\"more_neg\"] += 1\n",
    "        # If the user perceives discussing mental health issues at work to possibly have consequences\n",
    "        elif row[\"mental_health_consequence\"] == \"Maybe\":\n",
    "            # And perceives discussing physical health issues to have more consequences\n",
    "            if row[\"phys_health_consequence\"] == \"Yes\":\n",
    "                mental_health_perception_counts[\"less_neg\"] += 1\n",
    "            # Or possible consequences\n",
    "            elif row[\"phys_health_consequence\"] == \"Maybe\":\n",
    "                mental_health_perception_counts[\"equal_maybe\"] += 1\n",
    "            # Or no consequences\n",
    "            else:\n",
    "                mental_health_perception_counts[\"more_neg\"] += 1\n",
    "        # If the user perceives discussing mental health issues at work to not have consequences\n",
    "        elif row[\"mental_health_consequence\"] == \"No\":\n",
    "            # And perceives discussing physical health issues to have more consequences\n",
    "            if row[\"phys_health_consequence\"] == \"Yes\":\n",
    "                mental_health_perception_counts[\"less_neg\"] += 1\n",
    "            # Or possible consequences\n",
    "            elif row[\"phys_health_consequence\"] == \"Maybe\":\n",
    "                mental_health_perception_counts[\"less_neg\"] += 1\n",
    "            # Or no consequences\n",
    "            else:\n",
    "                mental_health_perception_counts[\"equal_no\"] += 1\n",
    "\n",
    "    # Create results DataFrame to return\n",
    "    columns = [\"perception\", \"count\", \"percent_of_total\"]\n",
    "    # Count of participants that answered both questions\n",
    "    total = np.sum([mental_health_perception_counts[item] for item in mental_health_perception_counts])\n",
    "    # Create a new DataFrame\n",
    "    results_df = pd.DataFrame(columns=columns)\n",
    "\n",
    "    # Iterate through dictionary adding a new row to the results DataFrame\n",
    "    for item in mental_health_perception_counts:\n",
    "        # Create a new row to be added to the results DataFrame\n",
    "        new_row = pd.Series(index=columns)\n",
    "        # Set the name of the row\n",
    "        new_row[\"perception\"] = item\n",
    "        # Set the count of participants in this bucket\n",
    "        new_row[\"count\"] = mental_health_perception_counts[item]\n",
    "        # Set the percent of participants in this bucket\n",
    "        new_row[\"percent_of_total\"] = np.round(mental_health_perception_counts[item] / float(total), 4)\n",
    "        # Append the new row\n",
    "        results_df = results_df.append(new_row, ignore_index=True)\n",
    "\n",
    "    return results_df"
   ]
  },
  {
   "cell_type": "code",
   "execution_count": 25,
   "metadata": {
    "collapsed": true
   },
   "outputs": [],
   "source": [
    "# Generate aggregate mental health perception DataFrames\n",
    "twenty_fourteen_perception = get_perception_of_mental_health_score(twenty_fourteen_data)\n",
    "twenty_sixteen_perception = get_perception_of_mental_health_score(twenty_sixteen_data)"
   ]
  },
  {
   "cell_type": "code",
   "execution_count": 26,
   "metadata": {
    "collapsed": true
   },
   "outputs": [],
   "source": [
    "def plot_mental_health_perception(agg_df, year, output_file=None):\n",
    "    \"\"\" Method used to plot DataFrame of perceived mental health views\n",
    "\n",
    "    :param agg_df: Aggregated Pandas DataFrame of mental health perception buckets\n",
    "    :type agg_df: Pandas DataFrame\n",
    "    :param year: Year of survey\n",
    "    :type year: int\n",
    "    :param output_file: File to output plot to\n",
    "    :type output_file: string\n",
    "    :return: None\n",
    "    \"\"\"    \n",
    "    # SO Post: https://stackoverflow.com/questions/28931224/adding-value-labels-on-a-matplotlib-bar-chart\n",
    "    fig = plt.figure(figsize=(8, 6))\n",
    "    ax = agg_df.sort_values(\"count\", ascending=False)[\"count\"].plot(kind=\"bar\")\n",
    "    ax.set_title(\"Mental Health Perception - {}\".format(year))\n",
    "    ax.set_xlabel(\"Perception\")\n",
    "    ax.set_ylabel(\"Count\")\n",
    "    ax.set_xticklabels(agg_df.sort_values(\"count\", ascending=False)[\"perception\"])\n",
    "\n",
    "    fig.tight_layout()\n",
    "\n",
    "    # Add labels to chart\n",
    "    rects = ax.patches\n",
    "    labels = np.round(agg_df.sort_values(\"count\", ascending=False)[\"percent_of_total\"] * 100, 2)\n",
    "\n",
    "    for rect, label in zip(rects, labels):\n",
    "        height = rect.get_height()\n",
    "        ax.text(rect.get_x() + rect.get_width() / 2, height + .3, \"{}%\".format(label), ha='center', va='bottom')\n",
    "\n",
    "    if output_file:\n",
    "        plt.savefig(output_file)\n",
    "    plt.show()"
   ]
  },
  {
   "cell_type": "code",
   "execution_count": 27,
   "metadata": {},
   "outputs": [
    {
     "data": {
      "image/png": "[encoded data removed]",
      "text/plain": [
       "<matplotlib.figure.Figure at 0x2cdd2f3c9e8>"
      ]
     },
     "metadata": {},
     "output_type": "display_data"
    },
    {
     "data": {
      "image/png": "[encoded data removed]",
      "text/plain": [
       "<matplotlib.figure.Figure at 0x2cdd2f3ccc0>"
      ]
     },
     "metadata": {},
     "output_type": "display_data"
    }
   ],
   "source": [
    "# Plot the results\n",
    "plot_mental_health_perception(twenty_fourteen_perception, 2014, \"./outputs/2014_mental_health_perception.png\")\n",
    "plot_mental_health_perception(twenty_sixteen_perception, 2016, \"./outputs/2016_mental_health_perception.png\")"
   ]
  },
  {
   "cell_type": "markdown",
   "metadata": {},
   "source": [
    "The results from both of the surveys line up with our hypothesis **H1a**, that people tend to have a more negative association with discussing mental health in the workplace than discussing physical health. I find it surprising that the second most common result in both surveys was that people felt like there wouldn't be any consequences around discussing physical or mental health at work.\n",
    "\n",
    "Now let's compare the proportion between the surveys to see if **H1b** holds as well."
   ]
  },
  {
   "cell_type": "code",
   "execution_count": 38,
   "metadata": {
    "collapsed": true
   },
   "outputs": [],
   "source": [
    "def mental_health_perception_proportion_test(twenty_fourteen_df, twenty_sixteen_df):\n",
    "    \"\"\" Method used to compare proportions of more negative mental health perception\n",
    "\n",
    "    :param twenty_fourteen_df: 2014 DataFrame to process\n",
    "    :type twenty_fourteen_df: Pandas DataFrame\n",
    "    :param twenty_sixteen_df: 2016 DataFrame to process\n",
    "    :type twenty_sixteen_df: Pandas DataFrame\n",
    "    :return: p-value of two-sample proportion z-test\n",
    "    \"\"\"\n",
    "    # Get counts for how many participants are in the more negative bucket    \n",
    "    tf_more_neg_count = twenty_fourteen_df[twenty_fourteen_df[\"perception\"] == \"more_neg\"][\"count\"].sum()\n",
    "    ts_more_neg_count = twenty_sixteen_df[twenty_sixteen_df[\"perception\"] == \"more_neg\"][\"count\"].sum()\n",
    "    \n",
    "    # Get total participant count\n",
    "    tf_count = twenty_fourteen_df[\"count\"].sum()\n",
    "    ts_count = twenty_sixteen_df[\"count\"].sum()\n",
    "\n",
    "    # Generate p-value\n",
    "    stat, pval = \\\n",
    "        proportions_ztest(np.array([tf_more_neg_count, ts_more_neg_count]),\n",
    "                          np.array([tf_count, ts_count]),\n",
    "                          0)\n",
    "    return pval"
   ]
  },
  {
   "cell_type": "code",
   "execution_count": 51,
   "metadata": {},
   "outputs": [
    {
     "name": "stdout",
     "output_type": "stream",
     "text": [
      "P-value for two-sample proportion z-test: 0.92499\n"
     ]
    }
   ],
   "source": [
    "pval = mental_health_perception_proportion_test(twenty_fourteen_perception, twenty_sixteen_perception)\n",
    "print(\"P-value for two-sample proportion z-test: {}\".format(np.round(pval, 5)))"
   ]
  },
  {
   "cell_type": "markdown",
   "metadata": {},
   "source": [
    "Given our P-value of 0.925, the difference between the percent of people that have a greater stigma around discussing mental health in the workplace is not significantly different between the two studies.\n",
    "\n",
    "##### Research Question 2 (RQ2)\n",
    "\n",
    "For the second research question, we have one hypothesis:\n",
    "\n",
    "**H2a:** Increase in percent of tech workers with mental health benefits.\n",
    "\n",
    "For each of the following filters, we will see if there was an increase in coverage of mental health benefits between the two surveys: the entire data set and within the United States versus outside the United States. We will be using the same two-sample proportion z-test that we used before but instead will be strictly checking that 2016 has a larger proportion than 2014."
   ]
  },
  {
   "cell_type": "code",
   "execution_count": 53,
   "metadata": {
    "collapsed": true
   },
   "outputs": [],
   "source": [
    "def mental_health_benefits_proportion_test(twenty_fourteen_df, twenty_sixteen_df):\n",
    "    \"\"\" Method used to compare proportion of survey participants with mental health benefits\n",
    "\n",
    "    :param twenty_fourteen_df: 2014 DataFrame to process\n",
    "    :type twenty_fourteen_df: Pandas DataFrame\n",
    "    :param twenty_sixteen_df: 2016 DataFrame to process\n",
    "    :type twenty_sixteen_df: Pandas DataFrame\n",
    "    :return: p-value of two-sample proportion z-test\n",
    "    \"\"\"\n",
    "    # Get counts for all participants filtering out NaN\n",
    "    tf_benefit_participant_count = twenty_fourteen_df[~pd.isnull(twenty_fourteen_df[\"benefits\"])].shape[0]\n",
    "    ts_benefit_participant_count = twenty_sixteen_df[~pd.isnull(twenty_sixteen_df[\"benefits\"])].shape[0]\n",
    "    # Get counts for users with coverage\n",
    "    tf_benefit_with_coverage_count = twenty_fourteen_df[twenty_fourteen_df[\"benefits\"] == \"Yes\"].shape[0]\n",
    "    ts_benefit_with_coverage_count = twenty_sixteen_df[twenty_sixteen_df[\"benefits\"] == \"Yes\"].shape[0]\n",
    "\n",
    "    # Print information about proportion for each year\n",
    "    print(\"2014 Proportion: {}\".format(\n",
    "        np.round(tf_benefit_with_coverage_count / float(tf_benefit_participant_count), 2)))\n",
    "    print(\"2016 Proportion: {}\".format(\n",
    "        np.round(ts_benefit_with_coverage_count / float(ts_benefit_participant_count), 2)))\n",
    "    print()\n",
    "\n",
    "    # Generate p-value\n",
    "    stat, pval = \\\n",
    "        proportions_ztest(np.array([tf_benefit_with_coverage_count, ts_benefit_with_coverage_count]),\n",
    "                          np.array([tf_benefit_participant_count, ts_benefit_participant_count]),\n",
    "                          0,\n",
    "                          alternative=\"smaller\")\n",
    "    return pval"
   ]
  },
  {
   "cell_type": "markdown",
   "metadata": {},
   "source": [
    "First, we'll look at the proportion for each entire data set. \n",
    "\n",
    "Given the p-value of 0.000014 (1.4e^-5), our result is statistically significant that mental health coverage has increased from 2014 to 2016."
   ]
  },
  {
   "cell_type": "code",
   "execution_count": 58,
   "metadata": {
    "scrolled": true
   },
   "outputs": [
    {
     "name": "stdout",
     "output_type": "stream",
     "text": [
      "2014 Proportion: 0.38\n",
      "2016 Proportion: 0.46\n",
      "\n",
      "P-value for two-sample proportion z-test: 1.37e-05\n"
     ]
    }
   ],
   "source": [
    "pval = mental_health_benefits_proportion_test(twenty_fourteen_data, twenty_sixteen_data)\n",
    "print(\"P-value for two-sample proportion z-test: {0:7f}\".format(np.round(pval, 7)))"
   ]
  },
  {
   "cell_type": "markdown",
   "metadata": {},
   "source": [
    "Next, we'll look at mental health benefits coverage inside and outside of the United States to see if country is a confounding variable.\n",
    "\n",
    "For both inside and outside the United States, we see an increase in coverage of mental health benefits between the two surveys. Both results are found to be statistically significant.\n",
    "\n",
    "We also look at coverage inside the United Kingdom as given that they have universal healthcare through the National Health Service (NHS), we would expect coverage to have been universal and not to have increased like the data shows."
   ]
  },
  {
   "cell_type": "code",
   "execution_count": 78,
   "metadata": {},
   "outputs": [
    {
     "name": "stdout",
     "output_type": "stream",
     "text": [
      "Coverage in the United States\n",
      "2014 Proportion: 0.53\n",
      "2016 Proportion: 0.6\n",
      "\n",
      "P-value for two-sample proportion z-test: 0.002257\n",
      "\n",
      "Coverage outside the United States\n",
      "2014 Proportion: 0.16\n",
      "2016 Proportion: 0.24\n",
      "\n",
      "P-value for two-sample proportion z-test: 0.000915\n",
      "\n",
      "Coverage inside the United Kingdom\n",
      "2014 Proportion: 0.11\n",
      "2016 Proportion: 0.22\n",
      "\n",
      "P-value for two-sample proportion z-test: 0.004048\n"
     ]
    }
   ],
   "source": [
    "print(\"Coverage in the United States\")\n",
    "pval = \\\n",
    "    mental_health_benefits_proportion_test(\n",
    "        twenty_fourteen_data[twenty_fourteen_data[\"country\"] == \"United States\"], \n",
    "        twenty_sixteen_data[twenty_sixteen_data[\"country\"] == \"United States\"])\n",
    "print(\"P-value for two-sample proportion z-test: {0:7f}\".format(np.round(pval, 7)))\n",
    "\n",
    "print()\n",
    "print(\"Coverage outside the United States\")\n",
    "pval = \\\n",
    "    mental_health_benefits_proportion_test(\n",
    "        twenty_fourteen_data[twenty_fourteen_data[\"country\"] != \"United States\"], \n",
    "        twenty_sixteen_data[twenty_sixteen_data[\"country\"] != \"United States\"])\n",
    "print(\"P-value for two-sample proportion z-test: {0:7f}\".format(np.round(pval, 7)))\n",
    "\n",
    "print()\n",
    "print(\"Coverage inside the United Kingdom\")\n",
    "pval = \\\n",
    "    mental_health_benefits_proportion_test(\n",
    "        twenty_fourteen_data[twenty_fourteen_data[\"country\"] == \"United Kingdom\"], \n",
    "        twenty_sixteen_data[twenty_sixteen_data[\"country\"] == \"United Kingdom\"])\n",
    "print(\"P-value for two-sample proportion z-test: {0:7f}\".format(np.round(pval, 7)))"
   ]
  },
  {
   "cell_type": "markdown",
   "metadata": {},
   "source": [
    "For both the entire data set and when broken out by within the United States or outside of the United States, the proportion of individuals that reported having mental health benefits increased from the 2014 survey to the 2016 survey so **H2a** is supported."
   ]
  },
  {
   "cell_type": "markdown",
   "metadata": {},
   "source": [
    "### Discussion/Limitations"
   ]
  },
  {
   "cell_type": "markdown",
   "metadata": {},
   "source": [
    "##### Limitations of Study\n",
    "\n",
    "Some of the potential limitations of the results of the analysis stem from how the data were collected. The survey was promoted through OSMI's Twitter [[4]](#References) and sites focusing on mental health issues in the tech industry like [BlueHackers](http://bluehackers.org/2016/04/02/osmi-mental-health-in-tech-survey-2016). Individuals that are likely to visit these sites or to follow OSMI on Twitter would seemingly be more likely to be open about discussing mental health issues.\n",
    "\n",
    "All data provided in the survey was self-reported and the majority of responses in both surveys come from the United States (59.7% in 2014 and 58.6% in 2016).\n",
    "\n",
    "While both surveys contain the same subset of questions, the 2016 survey contains many more questions than the 2014 survey and allows the user to go into greater detail to qualify their answers. This limits our ability to compare the more qualitative answers users had the option to provide. The questions that are similar between the surveys generally provided a Yes/No/Maybe response. The results of this analysis for quantifying sentiment around mental health issues should be understood alongside the potential biases of the data sets given these limitations.\n",
    "\n",
    "##### Importance of Findings\n",
    "\n",
    "The first question one should ask after reading this analysis is \"Why do people tend to view discussing mental health as having more consequences than discussing physical health in the workplace?\" Beginning to discuss why people tend to have this attitude is the first step in shifting the perception of discussing mental health to not carry as much of a stigma. It is surprising that the second most common perception around discussing physical and mental health in the workplace was that there would not be consequences for such discussions. In the section below, we suggest that increasing the range of answers for these questions would potentially lead to clearer results for the metric we devised.\n",
    "\n",
    "It is heartening to see that mental health coverage has increased between the two surveys but that finding should be taken with a grain of salt given the noted limitations in how this data was collected. A more thorough survey conducted through a government agency would give a better sense of how coverage has changed.\n",
    "\n",
    "##### Future Research Questions/Suggestions\n",
    "\n",
    "Due to the brevity of this study, there are several outstanding questions that weren't covered in the analysis. The foremost was that given mental health care coverage increased between the two studies and that our metric for perception of discussing mental health didn't change, \"How long does it take for the stigma around discussing mental health to lessen given that access to mental health care is more available?\" It would also be interesting to investigate if there is a correlation between factors such as age or country of origin that shift the distribution of perception around discussing mental health.\n",
    "\n",
    "In regards to the limitations of the study, it would be beneficial to future research if the survey included a question about how users found the survey so that future surveys could be promoted from a larger variety of sources. It would also help if the range of answers was quantifiable rather than qualitative. This would provide a more precise scale for a survey participant to express their opinion around the perceived consequences around discussing mental or physical health in the workplace."
   ]
  },
  {
   "cell_type": "markdown",
   "metadata": {},
   "source": [
    "### Conclusion"
   ]
  },
  {
   "cell_type": "markdown",
   "metadata": {},
   "source": [
    "| Hypothesis | Description | Supported? |\n",
    "| ---------- | ----------- | ---------- |\n",
    "| **H1a** | Survey participants will have a more negative perception around discussing mental health. | Yes |\n",
    "| **H1b** | Perception of discussing mental health between surveys hasn't changed. | Yes |\n",
    "| **H2a** | Increase in percent of tech workers with mental health benefits. | Yes |\n",
    "\n",
    "##### Research Question 1\n",
    "\n",
    "In our first research question we sought to analyze if the overall sentiment of tech workers surveyed had improved between the 2014 and 2016 surveys. We found that within both surveys tech workers more often had a more negative perception of discussing mental health within the workplace than discussing physical health. We showed that there was not a statistically significant difference in the proportion of survey participants that had a more negative perception of discussing mental health between the two surveys. Both **H1a** and **H1b** were supported.\n",
    "\n",
    "##### Research Question 2\n",
    "\n",
    "In the second research question we examined if a larger percent of participants in the 2016 survey had mental health coverage than in the 2014 survey. We found that in 2016 a larger proportion of survey participants reported that they had mental health benefits. We also found that this was true within and outside the United States. **H2a** was supported.\n",
    "\n",
    "##### Understanding of Human-Centered Data Science\n",
    "\n",
    "The primary goal of this report is to foster discussions about the stigma around openly discussing mental health issues. We specifically take a look into this stigma within the tech industry through surveys provided by OSMI. In this case, understanding that the surveyed workers tended to view discussing mental health issues as having more potential consequences than discussing physical health issues opens the door to discuss why that might be the case. This is inherently human-centered as two of the values of human-centered data science are *openness* and *social impact*."
   ]
  },
  {
   "cell_type": "markdown",
   "metadata": {},
   "source": [
    "### References\n",
    "\n",
    "[1] CORRIGAN, PATRICK W, and AMY C WATSON. “Understanding the Impact of Stigma on People with Mental Illness.” World Psychiatry 1.1 (2002): 16–20. https://www.ncbi.nlm.nih.gov/pmc/articles/PMC1489832/#B13. Accessed 5 Nov. 2017.\n",
    "\n",
    "[2] Ltd, Open Sourcing Mental Illness. “Research :: Open Sourcing Mental Illness” 2015-2017, [www.osmihelp.org/research](www.osmihelp.org/research). Accessed 5 Nov. 2017.\n",
    "\n",
    "[3] National Alliance on Mental Illness. \"StigmaFree\" 2017, <https://www.nami.org/stigmafree>. Accessed 5 Nov. 2017.\n",
    "\n",
    "[4] Ed Finkler. \"The 2016 @OSMIhelp Mental Health in Tech survey is NOW LIVE! Please take & share w colleagues! http://j.mp/osmisurvey2016  #MentalHealthInTech\" <https://twitter.com/funkatron/status/709376847600099328>. 14 Mar 2016 6:53 AM. Tweet.\n",
    "\n",
    "[5] Ltd, Open Sourcing Mental Illness. \"OSMI Mental Health in Tech Survey 2016\" 2016, <https://cojfunkatroncom.typeform.com/to/Ao6BTw>. Accessed 5 Nov. 2017.\n",
    "\n",
    "[6] Singletary et al. \"Young people’s perceptions of mental and physical health in the context of general wellbeing.\" Abstract. Health Education Journal Vol 74, Issue 3, pp. 257 - 269. First Published June 4, 2014. <http://journals.sagepub.com/doi/10.1177/0017896914533219>. Accessed 6 Nov. 2017.\n",
    "\n",
    "[7] U.S. Department of Health & Human Services. \"Health Insurance Coverage and the Affordable Care Act, 2010-2016\". 2016. <https://aspe.hhs.gov/pdf-report/health-insurance-coverage-and-affordable-care-act-2010-2016>. Accessed 6 Nov. 2017."
   ]
  },
  {
   "cell_type": "markdown",
   "metadata": {},
   "source": [
    "### Appendix\n",
    "\n",
    "###### Data Set Descriptions\n",
    "\n",
    "**2014 Survey**\n",
    "\n",
    "| Column Name | Question | Data Description/Values Overview |\n",
    "| ---------------- | -------- | ---------------- |\n",
    "| Timestamp | N/A | Timestamp the survey was submitted |\n",
    "| Age | What is your age? | Number of years old the person is |\n",
    "| Gender | What is your gender? | String stating gender of the person |\n",
    "| Country | What country do you live in? | Country the person lives in |\n",
    "| state\t| If they live in the United States, what state do they live in? | Full name of state |\n",
    "| self_employed | Are you self-employed? | Yes/No/NA |\n",
    "| family_history | Do you have a family history of mental illness? | Yes/No |\n",
    "| treatment | Have you sought treatment for a mental health condition? | Yes/No |\n",
    "| work_interfere | If you have a mental health condition, do you feel that it interferes with your work? | Never/Rarely/Sometimes/Often/NA |\n",
    "| no_employees | How many employees does your company or organization have? | Category for number of employees (e.g. \"100-500\") |\n",
    "| remote_work | Do you work remotely (outside of an office) at least 50% of the time? | Yes/No |\n",
    "| tech_company | Is your employer primarily a tech company/organization? | Yes/No |\n",
    "| benefits | Does your employer provide mental health benefits? | Yes/No/Don't Know |\n",
    "| care_options | Do you know the options for mental health care your employer provides? | Yes/No/Not Sure |\n",
    "| wellness_program | Has your employer ever discussed mental health as part of an employee wellness program? | Yes/No/Don't Know |\n",
    "| seek_help | Does your employer provide resources to learn more about mental health issues and how to seek help? | Yes/No/Don't Know |\n",
    "| anonymity | Is your anonymity protected if you choose to take advantage of mental health or substance abuse treatment resources? | Yes/No/Don't Know |\n",
    "| leave | How easy is it for you to take medical leave for a mental health condition? | Very Difficult/Somewhat Difficult/Somewhat Easy/Very Easy/Don't Know |\n",
    "| mental_health_consequence | Do you think that discussing a mental health issue with your employer would have negative consequences? | Yes/No/Maybe |\n",
    "| phys_health_consequence | Do you think that discussing a physical health issue with your employer would have negative consequences? | Yes/No/Maybe |\n",
    "| coworkers | Would you be willing to discuss a mental health issue with your coworkers? | Yes/No/Some |\n",
    "| supervisor | Would you be willing to discuss a mental health issue with your direct supervisor(s)? | Yes/No/Some |\n",
    "| mental_health_interview | Would you bring up a mental health issue with a potential employer in an interview? | Yes/No/Maybe |\n",
    "| phys_health_interview | Would you bring up a physical health issue with a potential employer in an interview? | Yes/No/Maybe |\n",
    "| mental_vs_physical | Do you feel that your employer takes mental health as seriously as physical health? | Yes/No/Don't Know |\n",
    "| obs_consequence | Have you heard of or observed negative consequences for coworkers with mental health conditions in your workplace? | Yes/No |\n",
    "| comments | N/A | Any additional comments the person had or NA |"
   ]
  },
  {
   "cell_type": "markdown",
   "metadata": {},
   "source": [
    "**2016 Survey**\n",
    "\n",
    "| Column Name/Question | Data Description/Values Overview |\n",
    "| -------------------- | ----------------------- |\n",
    "| Are you self-employed? | Boolean value |\n",
    "| How many employees does your company or organization have? | Category for number of employees (e.g. \"100-500\") |\n",
    "| Is your employer primarily a tech company/organization? | Boolean value or blank |\n",
    "| Is your primary role within your company related to tech/IT? | Boolean value or blank |\n",
    "| Does your employer provide mental health benefits as part of healthcare coverage? | Yes/No/Not eligible/I don't know or blank |\n",
    "| Do you know the options for mental health care available under your employer-provided coverage? | Yes/No/NA/Not sure or blank |\n",
    "| Has your employer ever formally discussed mental health (for example, as part of a wellness campaign or other official communication)? | Yes/No/I don't know or blank |\n",
    "| Does your employer offer resources to learn more about mental health concerns and options for seeking help? | Yes/No/I don't know or blank |\n",
    "| Is your anonymity protected if you choose to take advantage of mental health or substance abuse treatment resources provided by your employer? | Yes/No/I don't know or blank |\n",
    "| If a mental health issue prompted you to request a medical leave from work, asking for that leave would be: | Very Difficult/Somewhat Difficult/Neither easy nor difficult/Somewhat Easy/Very Easy/Don't Know or blank |\n",
    "| Do you think that discussing a mental health disorder with your employer would have negative consequences? | Yes/No/Maybe or blank |\n",
    "| Do you think that discussing a physical health issue with your employer would have negative consequences? | Yes/No/Maybe or blank |\n",
    "| Would you feel comfortable discussing a mental health disorder with your coworkers? | Yes/No/Maybe or blank |\n",
    "| Would you feel comfortable discussing a mental health disorder with your direct supervisor(s)? | Yes/No/Maybe or blank |\n",
    "| Do you feel that your employer takes mental health as seriously as physical health? | Yes/No/I don't know or blank |\n",
    "| Have you heard of or observed negative consequences for co-workers who have been open about mental health issues in your workplace? | Yes/No or blank |\n",
    "| Do you have medical coverage (private insurance or state-provided) which includes treatment of  mental health issues? | Boolean value or blank |\n",
    "| Do you know local or online resources to seek help for a mental health disorder? | None/Some/Several or blank |\n",
    "| If you have been diagnosed or treated for a mental health disorder, do you ever reveal this to clients or business contacts? | Yes/Sometimes/No, doesn't matter/No, would have negative impact/Not applicable or blank |\n",
    "| If you have revealed a mental health issue to a client or business contact, do you believe this has impacted you negatively? | Yes/No/NA/Not sure or blank |\n",
    "| If you have been diagnosed or treated for a mental health disorder, do you ever reveal this to coworkers or employees? | Yes/Sometimes/No, doesn't matter/No, would have negative impact/Not applicable or blank |\n",
    "| If you have revealed a mental health issue to a coworker or employee, do you believe this has impacted you negatively? | Yes/No/Unsure/Not applicable or blank |\n",
    "| Do you believe your productivity is ever affected by a mental health issue? | Yes/No/Unsure/Not applicable or blank |\n",
    "| If yes, what percentage of your work time (time performing primary or secondary job functions) is affected by a mental health issue? | Binned representation of percent of time (e.g. \"1-25%\")\n",
    "| Do you have previous employers? | Boolean value |\n",
    "| Have your previous employers provided mental health benefits? | Yes/No/Some/I don't know or blank |\n",
    "| Were you aware of the options for mental health care provided by your previous employers? | Yes/No/Some/NA or blank |\n",
    "| Did your previous employers ever formally discuss mental health (as part of a wellness campaign or other official communication)? | None/Some/Yes/I don't know or blank |\n",
    "| Did your previous employers provide resources to learn more about mental health issues and how to seek help? | None/Some/Yes or blank |\n",
    "| Was your anonymity protected if you chose to take advantage of mental health or substance abuse treatment resources with previous employers? | Yes/No/Sometimes/I don't know or blank |\n",
    "| Do you think that discussing a mental health disorder with previous employers would have negative consequences? | Yes/No/Some/I don't know or blank |\n",
    "| Do you think that discussing a physical health issue with previous employers would have negative consequences? | Yes/No/Some/I don't know or blank |\n",
    "| Would you have been willing to discuss a mental health issue with your previous co-workers? | Yes/No/Some or blank |\n",
    "| Would you have been willing to discuss a mental health issue with your direct supervisor(s)? | Yes/No/Some/I don't know or blank |\n",
    "| Did you feel that your previous employers took mental health as seriously as physical health? | None did/Some did/Yes, they all did/I don't know or blank |\n",
    "| Did you hear of or observe negative consequences for co-workers with mental health issues in your previous workplaces? | None of them/Some of them/Yes, all of them or blank |\n",
    "| Would you be willing to bring up a physical health issue with a potential employer in an interview? | Yes/No/Maybe |\n",
    "| Why or why not? | Explanation of previous question |\n",
    "| Would you bring up a mental health issue with a potential employer in an interview? | Yes/No/Maybe |\n",
    "| Why or why not? | Explanation of previous question |\n",
    "| Do you feel that being identified as a person with a mental health issue would hurt your career? |  Yes, I think it would/Yes, it has/No, I don't think it would/No, it hasn't/Maybe |\n",
    "| Do you think that team members/co-workers would view you more negatively if they knew you suffered from a mental health issue? | Yes, I think they would/Yes, they do/No, I don't think they would/No, they don't/Maybe |\n",
    "| How willing would you be to share with friends and family that you have a mental illness? | Not applicable/Not open/Somewhat not open/Neutral/Somewhat open/Very open |\n",
    "| Have you observed or experienced an unsupportive or badly handled response to a mental health issue in your current or previous workplace? | Yes, I experienced/Yes, I observed/No/Maybe/NA |\n",
    "| Have your observations of how another individual who discussed a mental health disorder made you less likely to reveal a mental health issue yourself in your current workplace? | Yes/No/Maybe/NA or blank |\n",
    "| Do you have a family history of mental illness? | Yes/No/I don't know |\n",
    "| Have you had a mental health disorder in the past? | Yes/No/Maybe |\n",
    "| Do you currently have a mental health disorder? | Yes/No/Maybe |\n",
    "| If yes, what condition(s) have you been diagnosed with? | String representation of condition(s) or blank |\n",
    "| If maybe, what condition(s) do you believe you have? | String representation of condition(s) or blank |\n",
    "| Have you been diagnosed with a mental health condition by a medical professional? | Yes/No |\n",
    "| If so, what condition(s) were you diagnosed with? | String representation of condition(s) or blank |\n",
    "| Have you ever sought treatment for a mental health issue from a mental health professional? | Boolean value |\n",
    "| If you have a mental health issue, do you feel that it interferes with your work when being treated effectively? | NA/Never/Rarely/Sometimes/Often |\n",
    "| If you have a mental health issue, do you feel that it interferes with your work when NOT being treated effectively? | NA/Never/Rarely/Sometimes/Often |\n",
    "| What is your age? | Number of years old the person is |\n",
    "| What is your gender? | String stating gender of the person |\n",
    "| What country do you live in? | Country the person lives in |\n",
    "| What US state or territory do you live in? | Full name of state |\n",
    "| What country do you work in? | Country the person works in |\n",
    "| What US state or territory do you work in? | Full name of state |\n",
    "| Which of the following best describes your work position? | String description of their job roles |\n",
    "| Do you work remotely? | Always/Sometimes/Never |"
   ]
  }
 ],
 "metadata": {
  "kernelspec": {
   "display_name": "Python 3",
   "language": "python",
   "name": "python3"
  },
  "language_info": {
   "codemirror_mode": {
    "name": "ipython",
    "version": 3
   },
   "file_extension": ".py",
   "mimetype": "text/x-python",
   "name": "python",
   "nbconvert_exporter": "python",
   "pygments_lexer": "ipython3",
   "version": "3.6.1"
  }
 },
 "nbformat": 4,
 "nbformat_minor": 2
}
